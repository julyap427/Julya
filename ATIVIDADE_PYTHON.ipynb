{
  "nbformat": 4,
  "nbformat_minor": 0,
  "metadata": {
    "colab": {
      "provenance": [],
      "toc_visible": true,
      "authorship_tag": "ABX9TyP0QOyWRAoweQeTG5y2E7aO",
      "include_colab_link": true
    },
    "kernelspec": {
      "name": "python3",
      "display_name": "Python 3"
    },
    "language_info": {
      "name": "python"
    }
  },
  "cells": [
    {
      "cell_type": "markdown",
      "metadata": {
        "id": "view-in-github",
        "colab_type": "text"
      },
      "source": [
        "<a href=\"https://colab.research.google.com/github/julyap427/Julya/blob/main/ATIVIDADE_PYTHON.ipynb\" target=\"_parent\"><img src=\"https://colab.research.google.com/assets/colab-badge.svg\" alt=\"Open In Colab\"/></a>"
      ]
    },
    {
      "cell_type": "code",
      "execution_count": null,
      "metadata": {
        "colab": {
          "base_uri": "https://localhost:8080/"
        },
        "id": "3WzdgPPLigD-",
        "outputId": "6f2fbe08-4f76-4d02-e950-5e1b431d0cf0"
      },
      "outputs": [
        {
          "output_type": "stream",
          "name": "stdout",
          "text": [
            "💳 Pagamento de R$150.00 processado com Cartão de Crédito.\n",
            "📄 Boleto bancário gerado para o valor de R$300.00.\n",
            "🔁 Pagamento de R$75.50 realizado via PIX.\n"
          ]
        }
      ],
      "source": [
        "from abc import ABC, abstractmethod\n",
        "\n",
        "# Classe abstrata\n",
        "class Pagamento(ABC):\n",
        "    @abstractmethod\n",
        "    def processar_pagamento(self, valor: float):\n",
        "        pass\n",
        "\n",
        "# Subclasses\n",
        "class CartaoCredito(Pagamento):\n",
        "    def processar_pagamento(self, valor: float):\n",
        "        print(f\"💳 Pagamento de R${valor:.2f} processado com Cartão de Crédito.\")\n",
        "\n",
        "class BoletoBancario(Pagamento):\n",
        "    def processar_pagamento(self, valor: float):\n",
        "        print(f\"📄 Boleto bancário gerado para o valor de R${valor:.2f}.\")\n",
        "\n",
        "class Pix(Pagamento):\n",
        "    def processar_pagamento(self, valor: float):\n",
        "        print(f\"🔁 Pagamento de R${valor:.2f} realizado via PIX.\")\n",
        "\n",
        "# Função usando polimorfismo\n",
        "def realizar_pagamento(pagamento: Pagamento, valor: float):\n",
        "    pagamento.processar_pagamento(valor)\n",
        "\n",
        "# Teste\n",
        "if __name__ == \"__main__\":\n",
        "    pagamento1 = CartaoCredito()\n",
        "    pagamento2 = BoletoBancario()\n",
        "    pagamento3 = Pix()\n",
        "\n",
        "    realizar_pagamento(pagamento1, 150.00)\n",
        "    realizar_pagamento(pagamento2, 300.00)\n",
        "    realizar_pagamento(pagamento3, 75.50)\n"
      ]
    }
  ]
}